{
 "cells": [
  {
   "cell_type": "markdown",
   "id": "383108c6",
   "metadata": {},
   "source": [
    "<table>\n",
    "<tr><td><img style=\"height: 150px;\" src=\"images/geo_hydro1.jpg\"></td>\n",
    "<td bgcolor=\"#FFFFFF\">\n",
    "    <p style=\"font-size: xx-large; font-weight: 900; line-height: 100%\">pyCRYPTO</p>\n",
    "    <p style=\"font-size: large; color: rgba(0,0,0,0.5);\"><b style=color:red;>Crypto</b>graphy</p>\n",
    "    <p style=\"font-size: large; color: rgba(0,0,0,0.5);\">Georg Kaufmann</p>\n",
    "    </td>\n",
    "<td><img style=\"height: 150px;\" src=\"images/pyCRYPTO.png\"></td>\n",
    "</tr>\n",
    "</table>\n",
    "\n",
    "----\n",
    "# `pyCRYPTO`\n",
    "\n",
    "pyCRYPTO, a program package for cryptography tools and blockchains."
   ]
  },
  {
   "cell_type": "markdown",
   "id": "fea533e9",
   "metadata": {},
   "source": [
    "----\n",
    "## Contents\n",
    "\n",
    "- Basics\n",
    "    - [Introduction]\n",
    "    - [Quote](pyCRYPTO_Quote_Goethe_Faust.ipynb)\n",
    "    - [ASCII and Unicode](pyCRYPTO_Unicode.ipynb)\n",
    "    - [Bytes](pyCRYPTO_Bytes.ipynb)\n",
    "\n",
    "- Simple crypting\n",
    "    - [Reverse cipher](pyCRYPTO_ReverseCipher.ipynb)\n",
    "    - [Caesar's cipher](pyCRYPTO_CaesarsCipher.ipynb)\n",
    "    \n",
    "- Prime numbers\n",
    "    - [Modular arithmetics](pyCRYPTO_ModularArithmetics.ipynb)\n",
    "    - [Prime numbers](pyCRYPTO_PrimeNumbers.ipynb)\n",
    "    - [Coprime numbers, Greastest common divisor](pyCRYPTO_CoprimeNumbers_GCD.ipynb)\n",
    "\n",
    "- RSA \n",
    "    - [Simple example (short key)](pyCRYPTO_RSAsimple.ipynb)\n",
    "    - [Real example](pyCRYPTORSAreal.ipynb)\n",
    "    \n",
    "- Blockchain\n",
    "    - [Hash functions](pyCRYPTO_hash.ipynb)\n",
    "    - [Blockchain](pyCRYPTO_blockchain.ipynb)\n",
    "    \n",
    "- Other\n",
    "    - Libraries\n",
    "        - [libCRYPT](libCRYPT.ipynb)"
   ]
  },
  {
   "cell_type": "markdown",
   "id": "b9ee8777",
   "metadata": {},
   "source": [
    "----"
   ]
  }
 ],
 "metadata": {
  "kernelspec": {
   "display_name": "Python 3 (ipykernel)",
   "language": "python",
   "name": "python3"
  },
  "language_info": {
   "codemirror_mode": {
    "name": "ipython",
    "version": 3
   },
   "file_extension": ".py",
   "mimetype": "text/x-python",
   "name": "python",
   "nbconvert_exporter": "python",
   "pygments_lexer": "ipython3",
   "version": "3.11.3"
  }
 },
 "nbformat": 4,
 "nbformat_minor": 5
}
