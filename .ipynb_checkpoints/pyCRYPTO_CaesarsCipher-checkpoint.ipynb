{
 "cells": [
  {
   "cell_type": "markdown",
   "id": "f4b3ae77",
   "metadata": {},
   "source": [
    "<table>\n",
    "<tr><td><img style=\"height: 150px;\" src=\"images/geo_hydro1.jpg\"></td>\n",
    "<td bgcolor=\"#FFFFFF\">\n",
    "    <p style=\"font-size: xx-large; font-weight: 900; line-height: 100%\">pyCRYPTO</p>\n",
    "    <p style=\"font-size: large; color: rgba(0,0,0,0.5);\"><b style=color:red;>Crypto</b>graphy</p>\n",
    "    <p style=\"font-size: large; color: rgba(0,0,0,0.5);\">Georg Kaufmann</p>\n",
    "    </td>\n",
    "<td><img style=\"height: 150px;\" src=\"images/pyCRYPTO.png\"></td>\n",
    "</tr>\n",
    "</table>\n",
    "\n",
    "----\n",
    "# `pyCRYPTO`\n",
    "\n",
    "pyCRYPTO, a program package for cryptography tools and blockchains."
   ]
  },
  {
   "cell_type": "markdown",
   "id": "8f659d91",
   "metadata": {},
   "source": [
    "# Ceasar's cipher \n",
    "----\n",
    "\n",
    "In this notebook, we introduce another simple crypting algorithm, the **Caesar's cipher** \n",
    "algorithm. \n",
    "\n",
    "Here, we shift the alphabet by a **secret key** $key$."
   ]
  },
  {
   "cell_type": "markdown",
   "id": "37276b5a",
   "metadata": {},
   "source": [
    "----\n",
    "## Encrypting\n",
    "\n",
    "We use again one line from the **Faust I** quote."
   ]
  },
  {
   "cell_type": "code",
   "execution_count": 1,
   "id": "d24b9472",
   "metadata": {
    "tags": []
   },
   "outputs": [
    {
     "name": "stdout",
     "output_type": "stream",
     "text": [
      "52 Allwissend bin ich nicht; doch viel ist mir bewusst!\n",
      "52 allwissend bin ich nicht; doch viel ist mir bewusst!\n"
     ]
    }
   ],
   "source": [
    "message = \"Allwissend bin ich nicht; doch viel ist mir bewusst!\"\n",
    "print(len(message),message)\n",
    "print(len(message),message.lower())"
   ]
  },
  {
   "cell_type": "markdown",
   "id": "325e0fe5",
   "metadata": {},
   "source": [
    "We create a **dictionary** of known characters, first just lowercase letters."
   ]
  },
  {
   "cell_type": "code",
   "execution_count": 2,
   "id": "26ba1d2e",
   "metadata": {
    "tags": []
   },
   "outputs": [],
   "source": [
    "dictionary = 'abcdefghijklmnopqrstuvwxyz'"
   ]
  },
  {
   "cell_type": "markdown",
   "id": "2c2121cc",
   "metadata": {},
   "source": [
    "In the Caesars cipher procedure then \n",
    "- we loop over all characters in the message, \n",
    "- check, if the character is in the dictionary,\n",
    "    - then either replace the character by shifting it with the **secret key** $key$\n",
    "    - or replace it with an `_`, if it is not in the dictionary\n",
    "    \n",
    "**Note:** because the shift can result in positions in the dictionary beyond the largest position,\n",
    "we need to take care. We can achieve this by wrapping the positions in this case.\n",
    "\n",
    "Example: We have $L=26$ positions, a key $key=3$.\n",
    "Then the characters at position:\n",
    "- 1 will be shifted to 1+3=4\n",
    "- 10 will be shifted to 10+3=13\n",
    "- ...\n",
    "- 24 will be shifted to 24+3=27\n",
    "- 25 will be shifted to 25+3=28\n",
    "\n",
    "the last two numbers are shifted beyond the maximum length $L$ of the dictionary.\n",
    "For them, we need to wrap the shift around to the beginning, as here positions are free.\n",
    "\n",
    "We use the modulo operator`(i+key) % L` as shift:"
   ]
  },
  {
   "cell_type": "code",
   "execution_count": 3,
   "id": "30fb9092",
   "metadata": {
    "tags": []
   },
   "outputs": [
    {
     "name": "stdout",
     "output_type": "stream",
     "text": [
      "dict[1] 1 4\n",
      "dict[10] 10 13\n",
      "dict[24] 24 1\n",
      "dict[25] 25 2\n"
     ]
    }
   ],
   "source": [
    "L = len(dictionary)\n",
    "pos = [1,10,24,25]\n",
    "key = 3\n",
    "for i in pos:\n",
    "    print(dict[i],i,(i+key)%L)"
   ]
  },
  {
   "cell_type": "code",
   "execution_count": 4,
   "id": "a3fbe886",
   "metadata": {
    "tags": []
   },
   "outputs": [],
   "source": [
    "def crypt(message,key,dictionary):\n",
    "    \"\"\"\n",
    "    pyCRYPTO\n",
    "    Caesar's cipher\n",
    "    use dictionary dictionary and a secret key k to encrypt message\n",
    "    \"\"\"\n",
    "    crypted_message = ''\n",
    "    for i in range(len(message)):\n",
    "        add = '_'\n",
    "        for j,letter in enumerate(dictionary):\n",
    "            if (message[i]==letter):\n",
    "                shift = (j+key) % len(dictionary)\n",
    "                #print(i,j,message[i],dict[shift])\n",
    "                add = dictionary[shift]\n",
    "        crypted_message+= add\n",
    "    return crypted_message"
   ]
  },
  {
   "cell_type": "code",
   "execution_count": 5,
   "id": "64add2d3",
   "metadata": {
    "tags": []
   },
   "outputs": [
    {
     "name": "stdout",
     "output_type": "stream",
     "text": [
      "Allwissend bin ich nicht; doch viel ist mir bewusst!\n",
      "_mmxjttfoe_cjo_jdi_ojdiu__epdi_wjfm_jtu_njs_cfxvttu_\n"
     ]
    }
   ],
   "source": [
    "key = 1\n",
    "crypted_message = crypt(message,key,dictionary)\n",
    "\n",
    "print(message)\n",
    "print(crypted_message)"
   ]
  },
  {
   "cell_type": "markdown",
   "id": "c701b1a1",
   "metadata": {},
   "source": [
    "----\n",
    "## Decrypting\n",
    "\n",
    "Decrypting is the reverse operation."
   ]
  },
  {
   "cell_type": "code",
   "execution_count": 6,
   "id": "464a800b",
   "metadata": {
    "tags": []
   },
   "outputs": [],
   "source": [
    "def decrypt(crypted_message,key,dictionary):\n",
    "    \"\"\"\n",
    "    pyCRYPTO\n",
    "    Caesar's cipher\n",
    "    use dictionary dictionary and a secret key k to encrypt message\n",
    "    \"\"\"\n",
    "    decrypted_message = ''\n",
    "    for i in range(len(crypted_message)):\n",
    "        add = '_'\n",
    "        for j,letter in enumerate(dictionary):\n",
    "            if (crypted_message[i]==letter):\n",
    "                shift = (j-key) % len(dictionary)\n",
    "                #print(i,j,message[i],dict[shift])\n",
    "                add = dictionary[shift]\n",
    "        decrypted_message+= add\n",
    "    return decrypted_message"
   ]
  },
  {
   "cell_type": "code",
   "execution_count": 7,
   "id": "4ca40eb5",
   "metadata": {
    "tags": []
   },
   "outputs": [
    {
     "name": "stdout",
     "output_type": "stream",
     "text": [
      "Allwissend bin ich nicht; doch viel ist mir bewusst!\n",
      "_llwissend_bin_ich_nicht__doch_viel_ist_mir_bewusst_\n"
     ]
    }
   ],
   "source": [
    "key = 1\n",
    "decrypted_message = decrypt(crypted_message,key,dictionary)\n",
    "\n",
    "print(message)\n",
    "print(decrypted_message)"
   ]
  },
  {
   "cell_type": "markdown",
   "id": "547b7fc0",
   "metadata": {},
   "source": [
    "----\n",
    "## Extend dictionary\n",
    "Next, we extend the dictionary to encompass also uppercase letters and other signs ..."
   ]
  },
  {
   "cell_type": "code",
   "execution_count": 8,
   "id": "ca7ddca5",
   "metadata": {
    "tags": []
   },
   "outputs": [],
   "source": [
    "dictionary = ' abcdefghijklmnopqrstuvwxyzABCDEFGHIJKLMNOPQRSTUVWXYZ.,;!?'"
   ]
  },
  {
   "cell_type": "code",
   "execution_count": 11,
   "id": "71623454",
   "metadata": {
    "tags": []
   },
   "outputs": [
    {
     "name": "stdout",
     "output_type": "stream",
     "text": [
      "Allwissend bin ich nicht; doch viel ist mir bewusst!\n",
      "KvvGsCCoxnjlsxjsmrjxsmrDgjnymrjFsovjsCDjwsBjloGECCDh\n",
      "Allwissend bin ich nicht; doch viel ist mir bewusst!\n"
     ]
    }
   ],
   "source": [
    "key = 10\n",
    "crypted_message = crypt(message,key,dictionary)\n",
    "decrypted_message = decrypt(crypted_message,key,dictionary)\n",
    "\n",
    "print(message)\n",
    "print(crypted_message)\n",
    "print(decrypted_message)"
   ]
  },
  {
   "cell_type": "markdown",
   "id": "63e1816f",
   "metadata": {},
   "source": [
    "----"
   ]
  }
 ],
 "metadata": {
  "kernelspec": {
   "display_name": "Python 3 (ipykernel)",
   "language": "python",
   "name": "python3"
  },
  "language_info": {
   "codemirror_mode": {
    "name": "ipython",
    "version": 3
   },
   "file_extension": ".py",
   "mimetype": "text/x-python",
   "name": "python",
   "nbconvert_exporter": "python",
   "pygments_lexer": "ipython3",
   "version": "3.11.3"
  }
 },
 "nbformat": 4,
 "nbformat_minor": 5
}
