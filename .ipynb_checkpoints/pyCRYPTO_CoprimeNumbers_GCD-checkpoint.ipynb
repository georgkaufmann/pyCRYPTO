{
 "cells": [
  {
   "cell_type": "markdown",
   "id": "f4b3ae77",
   "metadata": {},
   "source": [
    "<table>\n",
    "<tr><td><img style=\"height: 150px;\" src=\"images/geo_hydro1.jpg\"></td>\n",
    "<td bgcolor=\"#FFFFFF\">\n",
    "    <p style=\"font-size: xx-large; font-weight: 900; line-height: 100%\">pyCRYPTO</p>\n",
    "    <p style=\"font-size: large; color: rgba(0,0,0,0.5);\"><b style=color:red;>Crypto</b>graphy</p>\n",
    "    <p style=\"font-size: large; color: rgba(0,0,0,0.5);\">Georg Kaufmann</p>\n",
    "    </td>\n",
    "<td><img style=\"height: 150px;\" src=\"images/pyCRYPTO.png\"></td>\n",
    "</tr>\n",
    "</table>\n",
    "\n",
    "----\n",
    "# `pyCRYPTO`\n",
    "\n",
    "pyCRYPTO, a program package for cryptography tools and blockchains."
   ]
  },
  {
   "cell_type": "markdown",
   "id": "8f659d91",
   "metadata": {},
   "source": [
    "# Coprime numbers, Greatest common divisor\n",
    "----\n",
    "\n",
    "In this notebook, we introduce and create **co-prime numbers** and discuss\n",
    "the concept of the **greatest common divisor**. "
   ]
  },
  {
   "cell_type": "code",
   "execution_count": 1,
   "id": "6d6c62fc",
   "metadata": {},
   "outputs": [],
   "source": [
    "import numpy as np\n",
    "import sys"
   ]
  },
  {
   "cell_type": "markdown",
   "id": "33da9215",
   "metadata": {},
   "source": [
    "----\n",
    "## Prime factorisation\n",
    "\n",
    "**Integer factorization** is the decomposition of a composite number into a product of smaller integers. \n",
    "\n",
    "If these factors are further restricted to prime numbers, the process is called **prime factorization**. \n",
    "\n",
    "An algorithm calculating all prime numbers contained for an integer number $n$ runs in two steps:\n",
    "- Firstly, divide $n$ through 2 as long, until the remainer is no longer zero (determines how often `2` is contained in product\n",
    "- Secondly, loop over odd number from $[3,\\sqrt(n)+1]$ in steps of two, and check if counter is a factor\n",
    "- Thirdly, keep remaining rest as last factor"
   ]
  },
  {
   "cell_type": "code",
   "execution_count": 2,
   "id": "c96e85df",
   "metadata": {},
   "outputs": [],
   "source": [
    "def primeFactors(n):\n",
    "    \"\"\"\n",
    "    pyCRYPTO\n",
    "    Determine all prime factors of a composite number\n",
    "    input:\n",
    "      n - integer number\n",
    "    output:\n",
    "      factors - list of prime factors\n",
    "    \"\"\"\n",
    "    factors = []\n",
    "    # first check how many 2 are in as prime factors\n",
    "    while (n%2 == 0):\n",
    "        factors.append(2)\n",
    "        n = n/2\n",
    "    # then, n is returned as odd number, and next we check other prime factors\n",
    "    for i in range(3,int(np.sqrt(n))+1,2):\n",
    "        while (n%i == 0):\n",
    "            factors.append(i)\n",
    "            n = n/i\n",
    "    # remaining factor ...       \n",
    "    if (n > 2):\n",
    "        factors.append(int(n))\n",
    "    return factors"
   ]
  },
  {
   "cell_type": "code",
   "execution_count": 3,
   "id": "b988a470",
   "metadata": {},
   "outputs": [
    {
     "name": "stdout",
     "output_type": "stream",
     "text": [
      "315 [3, 3, 5, 7] 315\n"
     ]
    }
   ],
   "source": [
    "n=315\n",
    "factors = primeFactors(n)\n",
    "print(n,factors,np.prod(factors))"
   ]
  },
  {
   "cell_type": "markdown",
   "id": "37276b5a",
   "metadata": {},
   "source": [
    "----\n",
    "## Coprime numbers\n",
    "\n",
    "[See also wikipedia...](https://en.wikipedia.org/wiki/Prime_number)\n",
    "\n",
    "Two integer numbers $a$ and $b$ are called **coprime**, if the only positive integer \n",
    "that is a divisor of both of them is 1.\n",
    "\n",
    "We can test the **coprime** condition with **prime factorisation** of $a$ and $b$, then\n",
    "compare the factors. Two examples:\n",
    "\n",
    "- $a=12$ and $b=77$ are **coprime**, because an integer factorisation yields\n",
    "$$\\begin{array}{rcl}\n",
    "12 &=& 2 \\cdot 2 \\cdot 3 \\\\\n",
    "77 &=& 7 \\cdot 11\n",
    "\\end{array}\n",
    "$$\n",
    "and thus there are **no** common prime numbers."
   ]
  },
  {
   "cell_type": "code",
   "execution_count": 4,
   "id": "bc00c9eb-998a-4e56-a24c-c60ca53a1ec3",
   "metadata": {
    "tags": []
   },
   "outputs": [
    {
     "name": "stdout",
     "output_type": "stream",
     "text": [
      "12 [2, 2, 3] 12\n",
      "77 [7, 11] 77\n"
     ]
    }
   ],
   "source": [
    "nList = [12,77]\n",
    "for n in nList:\n",
    "    factors = primeFactors(n)\n",
    "    print(n,factors,np.prod(factors))"
   ]
  },
  {
   "cell_type": "markdown",
   "id": "4814d80f-8f13-48ed-b066-a072e9dceb94",
   "metadata": {},
   "source": [
    "- $a=15$ and $b=25$ are **not coprime**, because an integer factorisation yields\n",
    "$$\\begin{array}{rcl}\n",
    "15 &=& 3 \\cdot 5 \\\\\n",
    "25 &=& 5 \\cdot 5\n",
    "\\end{array}$$\n",
    "and thus there have `5`as a **common** prime number."
   ]
  },
  {
   "cell_type": "code",
   "execution_count": 5,
   "id": "631d7a4b-55b8-4d23-8de6-622a3f153861",
   "metadata": {
    "tags": []
   },
   "outputs": [
    {
     "name": "stdout",
     "output_type": "stream",
     "text": [
      "15 [3, 5] 15\n",
      "25 [5, 5] 25\n"
     ]
    }
   ],
   "source": [
    "nList = [15,25]\n",
    "for n in nList:\n",
    "    factors = primeFactors(n)\n",
    "    print(n,factors,np.prod(factors))"
   ]
  },
  {
   "cell_type": "markdown",
   "id": "fd27c88f",
   "metadata": {},
   "source": [
    "----\n",
    "## Greatest Common divisor (GCD)\n",
    "\n",
    "To calculate the **greatest common divisor** for two numbers $a$ and $b$:\n",
    "- We start with the modulo $r$ of $a$ and $b$, $r = a \\mbox{ mod } b$\n",
    "- $r>0$, we set $a=b$, $b=r$, and calculate $r = a \\mbox{ mod } b$\n",
    "- $r=0$, return $b$ as GCD\n",
    "\n",
    "If $GCD=1$ is returned, the two numbers $a$ and $b$ have **no** greatest common divisor,\n",
    "they are **coprime**!"
   ]
  },
  {
   "cell_type": "code",
   "execution_count": 6,
   "id": "72a3cc18",
   "metadata": {},
   "outputs": [],
   "source": [
    "def greatestCommonDivisor(a,b):\n",
    "    \"\"\"\n",
    "    pyCRYPTO\n",
    "    Determine greatest common divisor for two numbers a,b\n",
    "    input:\n",
    "      a,b - integer numbers\n",
    "    output:\n",
    "      GCA - greatest common divisor\n",
    "    \"\"\"\n",
    "    r = a%b\n",
    "    while r:\n",
    "        a = b\n",
    "        b = r\n",
    "        r = a%b\n",
    "    return b"
   ]
  },
  {
   "cell_type": "code",
   "execution_count": 7,
   "id": "4a018cc8-7321-4e23-a7a6-30cacc692eda",
   "metadata": {
    "tags": []
   },
   "outputs": [
    {
     "name": "stdout",
     "output_type": "stream",
     "text": [
      "a,b:  15 25\n",
      "GCD:  5\n"
     ]
    }
   ],
   "source": [
    "a=15\n",
    "b=25\n",
    "GCD = greatestCommonDivisor(a,b)\n",
    "print('a,b: ',a,b)\n",
    "print('GCD: ',GCD)"
   ]
  },
  {
   "cell_type": "markdown",
   "id": "a20ea48f-552a-4e50-8f77-a1ae20b09978",
   "metadata": {},
   "source": [
    "----\n",
    "## Test for coprime condition\n",
    "Now we are able to test two integer values $a$ and $b$ for the **coprime** condition ..."
   ]
  },
  {
   "cell_type": "code",
   "execution_count": 8,
   "id": "ba9c7f3c-1fbb-49f8-b398-861cbfc1c9c4",
   "metadata": {
    "tags": []
   },
   "outputs": [],
   "source": [
    "def testCoprime(a,b):\n",
    "    \"\"\"\n",
    "    pyCRYPTO\n",
    "    test if a and b are coprime\n",
    "    input:\n",
    "      a,b - integer numbers\n",
    "    output:\n",
    "      (none)\n",
    "    \"\"\"\n",
    "    gcd = greatestCommonDivisor(a,b)\n",
    "    if (gcd==1):\n",
    "        print(a,b,' => a and b are coprime')\n",
    "    else:\n",
    "        print(a,b,' => a and b are NOT coprime')\n",
    "    return"
   ]
  },
  {
   "cell_type": "markdown",
   "id": "aed775e7",
   "metadata": {},
   "source": [
    "Test with the two number pairs from above,\n",
    "- $a,b=[12,77]$\n",
    "- $a,b=[15,25]$"
   ]
  },
  {
   "cell_type": "code",
   "execution_count": 9,
   "id": "cc2dd7dc-fa9d-477f-af54-1cb17c76876a",
   "metadata": {
    "tags": []
   },
   "outputs": [
    {
     "name": "stdout",
     "output_type": "stream",
     "text": [
      "12 77  => a and b are coprime\n",
      "15 25  => a and b are NOT coprime\n"
     ]
    }
   ],
   "source": [
    "a=12\n",
    "b=77\n",
    "testCoprime(a,b)\n",
    "\n",
    "a=15\n",
    "b=25\n",
    "testCoprime(a,b)"
   ]
  },
  {
   "cell_type": "markdown",
   "id": "63e1816f",
   "metadata": {},
   "source": [
    "----"
   ]
  }
 ],
 "metadata": {
  "kernelspec": {
   "display_name": "Python 3 (ipykernel)",
   "language": "python",
   "name": "python3"
  },
  "language_info": {
   "codemirror_mode": {
    "name": "ipython",
    "version": 3
   },
   "file_extension": ".py",
   "mimetype": "text/x-python",
   "name": "python",
   "nbconvert_exporter": "python",
   "pygments_lexer": "ipython3",
   "version": "3.11.3"
  }
 },
 "nbformat": 4,
 "nbformat_minor": 5
}
