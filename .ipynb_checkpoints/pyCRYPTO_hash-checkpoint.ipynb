{
 "cells": [
  {
   "cell_type": "markdown",
   "id": "22cc7e73-0677-4879-b76d-4e7336ddea37",
   "metadata": {},
   "source": [
    "<table>\n",
    "<tr><td><img style=\"height: 150px;\" src=\"images/geo_hydro1.jpg\"></td>\n",
    "<td bgcolor=\"#FFFFFF\">\n",
    "    <p style=\"font-size: xx-large; font-weight: 900; line-height: 100%\">pyCRYPTO</p>\n",
    "    <p style=\"font-size: large; color: rgba(0,0,0,0.5);\"><b style=color:red;>Crypto</b>graphy</p>\n",
    "    <p style=\"font-size: large; color: rgba(0,0,0,0.5);\">Georg Kaufmann</p>\n",
    "    </td>\n",
    "<td><img style=\"height: 150px;\" src=\"images/pyCRYPTO.png\"></td>\n",
    "</tr>\n",
    "</table>\n",
    "\n",
    "----\n",
    "# `pyCRYPTO`\n",
    "\n",
    "pyCRYPTO, a program package for cryptography tools and blockchains."
   ]
  },
  {
   "cell_type": "markdown",
   "id": "64e16634-9dbd-4ffd-a8ca-ec523eeb1782",
   "metadata": {},
   "source": [
    "# Hash\n",
    "----\n",
    "\n",
    "In this notebook, we consider different **hashing** algorithms to use for effective comparison of strings or files. They are readily available in the\n",
    "`hashlib` library."
   ]
  },
  {
   "cell_type": "code",
   "execution_count": 1,
   "id": "b5d9e014-d0f3-460e-b939-e6f3bf86d1d4",
   "metadata": {
    "tags": []
   },
   "outputs": [],
   "source": [
    "import hashlib,datetime,json\n",
    "import matplotlib.pyplot as plt\n",
    "import matplotlib.image as mpimg"
   ]
  },
  {
   "cell_type": "markdown",
   "id": "bc520f90-bffc-4e52-93f1-60b3c9bcb2d1",
   "metadata": {},
   "source": [
    "----\n",
    "# Text example\n",
    "We define a short sentence (first sentence of the poem *Der Mond ist aufgegangen* from Matthias Claudius), in the second case\n",
    "with capital `S` in schwarz.\n",
    "\n",
    "Both sentences are different."
   ]
  },
  {
   "cell_type": "code",
   "execution_count": 2,
   "id": "234d82e2-2501-4719-bd67-274702c838bd",
   "metadata": {
    "tags": []
   },
   "outputs": [
    {
     "name": "stdout",
     "output_type": "stream",
     "text": [
      "Der Wald steht schwarz und schweiget\n",
      "Der Wald steht Schwarz und schweiget\n"
     ]
    }
   ],
   "source": [
    "data0 = \"Der Wald steht schwarz und schweiget\"\n",
    "data1 = \"Der Wald steht Schwarz und schweiget\"\n",
    "print(data0)\n",
    "print(data1)"
   ]
  },
  {
   "cell_type": "markdown",
   "id": "c31aaa73-04e6-4fe4-9b17-460fa1986937",
   "metadata": {},
   "source": [
    "----\n",
    "## Simple string comparison\n",
    "We can use a simple string comparison, which returns `False`. \n",
    "\n",
    "But this method is inefficient for long texts."
   ]
  },
  {
   "cell_type": "code",
   "execution_count": 3,
   "id": "6ae6f355-7fb4-4eee-85cb-38d57d030ce3",
   "metadata": {
    "tags": []
   },
   "outputs": [
    {
     "name": "stdout",
     "output_type": "stream",
     "text": [
      "False\n"
     ]
    }
   ],
   "source": [
    "print(data0==data1)"
   ]
  },
  {
   "cell_type": "markdown",
   "id": "225a300d-65b3-43b0-8f95-9298fe5529d1",
   "metadata": {},
   "source": [
    "----\n",
    "## Length of string\n",
    "We can calculate the length of the string with `len()` and compare them. \n",
    "\n",
    "However, this does not help us in this example,\n",
    "as the two sentences have the same length..."
   ]
  },
  {
   "cell_type": "code",
   "execution_count": 4,
   "id": "9ab56330-ad49-48ee-b502-a665e4e8a673",
   "metadata": {
    "tags": []
   },
   "outputs": [
    {
     "name": "stdout",
     "output_type": "stream",
     "text": [
      "36 36 True\n"
     ]
    }
   ],
   "source": [
    "hash_len0 = len(data0)\n",
    "hash_len1 = len(data1)\n",
    "print(hash_len0,hash_len1,hash_len0==hash_len1)"
   ]
  },
  {
   "cell_type": "markdown",
   "id": "ff1474cb-37df-4b45-8fba-4c9aa14fc7e2",
   "metadata": {},
   "source": [
    "----\n",
    "## Ascii table entry\n",
    "We can identify the position of each character in the ascii table, using the function `ord()`,  then add the integer position patched \n",
    "to three digits to strings `hash_ascii0` and `hash_ascii1`  and compare. This would work!\n",
    "\n",
    "However, this method, transferring each character to its ascii value, then concatenate, is very tedious for longer text ...\n",
    "\n",
    "... and, of course, it is not really save in a cryptographic sense, as it is easy to guess the\n",
    "algorithm hehind, the ascii table."
   ]
  },
  {
   "cell_type": "code",
   "execution_count": 5,
   "id": "83eab289-d9c2-4594-a9e4-10f71ac7f065",
   "metadata": {
    "tags": []
   },
   "outputs": [
    {
     "name": "stdout",
     "output_type": "stream",
     "text": [
      "068101114032087097108100032115116101104116032115099104119097114122032117110100032115099104119101105103101116\n",
      "068101114032087097108100032115116101104116032083099104119097114122032117110100032115099104119101105103101116\n",
      "False\n"
     ]
    }
   ],
   "source": [
    "hash_ascii0 = \"\"\n",
    "hash_ascii1 = \"\"\n",
    "for i in range(len(data0)):\n",
    "    posInAsciiTable = ord(data0[i])\n",
    "    hash_ascii0 += str(posInAsciiTable).zfill(3)\n",
    "for i in range(len(data1)):\n",
    "    posInAsciiTable = ord(data1[i])\n",
    "    hash_ascii1 += str(posInAsciiTable).zfill(3)\n",
    "print(hash_ascii0)\n",
    "print(hash_ascii1)\n",
    "print(hash_ascii0==hash_ascii1)"
   ]
  },
  {
   "cell_type": "markdown",
   "id": "29c328a9-0827-432a-8681-578e5394c545",
   "metadata": {},
   "source": [
    "----\n",
    "## `hashlib`\n",
    "Next, we use two functions from the `hashlib` library. Both functions will be from the class\n",
    "**cryptographic hash functions**, which have the following properties:\n",
    "\n",
    "- Input string of arbitrary length\n",
    "- output hash with fixed length\n",
    "- Efficient calculation of hash $y=h(x)$ of input $x$ with hash function $h$.\n",
    "- Preimage resistance, dificult to retrieve original $x$ from hash value $y$.\n",
    "- ...\n",
    "\n",
    "We first need to convert a **string** to a **bytes** object, using the `encode` function.\n",
    "This ensures that the object is in binary byte-type format. E.g., the german umlaute are then\n",
    "transferred to a byte sequence. \n",
    "\n",
    "See the following example. \n",
    "- The first block defines a text with umlaute.\n",
    "- The second block **encodes** this string to `utf-8` format.\n",
    "- The third block **decodes** the byte"
   ]
  },
  {
   "cell_type": "code",
   "execution_count": 6,
   "id": "fbafa4df-8015-4ef2-a14c-a0dfef6475d4",
   "metadata": {
    "tags": []
   },
   "outputs": [
    {
     "name": "stdout",
     "output_type": "stream",
     "text": [
      "<class 'str'> :  Dä Schörsch\n",
      "<class 'bytes'> :  b'D\\xc3\\xa4 Sch\\xc3\\xb6rsch'\n",
      "<class 'str'> :  Dä Schörsch\n"
     ]
    }
   ],
   "source": [
    "text = 'Dä Schörsch'\n",
    "print(type(text),': ',text)\n",
    "\n",
    "text_encoded = text.encode('utf-8')\n",
    "print(type(text_encoded),': ',text_encoded)\n",
    "\n",
    "text_decoded = text_encoded.decode('utf-8')\n",
    "#text_decoded = text_encoded.decode('ascii')\n",
    "print(type(text_decoded),': ',text_decoded)"
   ]
  },
  {
   "cell_type": "markdown",
   "id": "320fddfa-7200-47c1-a3de-af771628ee18",
   "metadata": {},
   "source": [
    "We apply the encoder function to our two data sets, using `utf-8` as encoding.\n",
    "\n",
    "See the resulting output, identified as cass **bytes**."
   ]
  },
  {
   "cell_type": "code",
   "execution_count": 7,
   "id": "d185cba7-2845-48ff-846a-4b9f60ed8530",
   "metadata": {
    "tags": []
   },
   "outputs": [
    {
     "name": "stdout",
     "output_type": "stream",
     "text": [
      "<class 'str'> Der Wald steht schwarz und schweiget\n",
      "<class 'str'> Der Wald steht Schwarz und schweiget\n",
      "<class 'bytes'> b'Der Wald steht schwarz und schweiget'\n",
      "<class 'bytes'> b'Der Wald steht Schwarz und schweiget'\n"
     ]
    }
   ],
   "source": [
    "print(type(data0),data0)\n",
    "print(type(data1),data1)\n",
    "data_encoded0 = data0.encode('utf-8')\n",
    "data_encoded1 = data1.encode('utf-8')\n",
    "print(type(data_encoded0),data_encoded0)\n",
    "print(type(data_encoded1),data_encoded1)"
   ]
  },
  {
   "cell_type": "markdown",
   "id": "b4d38700-8a3a-40d6-bd24-8780f8f85781",
   "metadata": {},
   "source": [
    "### md5\n",
    "The md5 hash function is called **message digest algorithm** (version 5), or [MD5](https://en.wikipedia.org/wiki/MD5).\n",
    "It generates a **128-bit** hash value for data of arbitrary length, but is nowadays been regarded as insecure.\n",
    "\n",
    "The hasf function `md` works as follows:\n",
    "- xx\n",
    "- xx\n",
    "\n",
    "We use the `md5` function from `hashlib` for calculating the md5 hash. Then, we print the **hash value**,\n",
    "using the `hexdigest` function. The length of the hash value in hexdigest format is 32.\n",
    "\n",
    "Note that the original two sentences have only only letter turned from lower case to upper case, but the\n",
    "resulting hexdigest dump is very different!\n",
    "\n",
    "Try `digest` instead of `hexdigest` to retrieve the binary format ..."
   ]
  },
  {
   "cell_type": "code",
   "execution_count": 8,
   "id": "80cb56d2-38e0-4415-a00c-75a965072109",
   "metadata": {
    "tags": []
   },
   "outputs": [
    {
     "name": "stdout",
     "output_type": "stream",
     "text": [
      "md5:    abfa192f31a5204036b5e464b4b2726e\n",
      "md5:    b9c4b4643f55209ef22661e2eed710d3\n",
      "Equal:  False\n"
     ]
    }
   ],
   "source": [
    "data_hashed0 = hashlib.md5(data_encoded0)\n",
    "data_hashed1 = hashlib.md5(data_encoded1)\n",
    "print('md5:   ',data_hashed0.hexdigest())\n",
    "print('md5:   ',data_hashed1.hexdigest())\n",
    "print('Equal: ',data_hashed0.hexdigest()==data_hashed1.hexdigest())"
   ]
  },
  {
   "cell_type": "markdown",
   "id": "facecc9a-5234-4870-9e49-cabd5f7e9e25",
   "metadata": {},
   "source": [
    "### sha256\n",
    "\n",
    "The sha256 hash function is called **secure hash algorithm**, or [SHA256](https://en.wikipedia.org/wiki/SHA-2).\n",
    "It generates a **256-bit** hash value for data of arbitrary length, but is nowadays been regarded as insecure.\n",
    "\n",
    "We use the `sha256` function from `hashlib` for calculating the md5 hash. Then, we print the **hash value**,\n",
    "using the `hexdigest` function. The length of the hash value in hexdigest format is 64."
   ]
  },
  {
   "cell_type": "code",
   "execution_count": 9,
   "id": "c4ab4980-1028-4089-832f-77d826c9b20f",
   "metadata": {
    "tags": []
   },
   "outputs": [
    {
     "name": "stdout",
     "output_type": "stream",
     "text": [
      "sha256:  61a2bef7a68ab2b9180f20c744f86205c5c66eae0b4cde92fbc556112eb2d997\n",
      "sha256:  618e98a0760d3c6abdb9643e97c5f74170e62ab9f3e85eaa937c2146d484070a\n",
      "Equal:   False\n"
     ]
    }
   ],
   "source": [
    "data_hashed0 = hashlib.sha256(data_encoded0)\n",
    "data_hashed1 = hashlib.sha256(data_encoded1)\n",
    "print('sha256: ',data_hashed0.hexdigest())\n",
    "print('sha256: ',data_hashed1.hexdigest())\n",
    "print('Equal:  ',data_hashed0.hexdigest()==data_hashed1.hexdigest())"
   ]
  },
  {
   "cell_type": "markdown",
   "id": "f5b8a474-6ac9-4a36-9844-3753fdbbe2c5",
   "metadata": {
    "tags": []
   },
   "source": [
    "----\n",
    "# File comparison\n",
    "We can use the same hash function to compare two files. We use the two icons\n",
    "- `icon_0.jpg`\n",
    "- `icon_1.jpg`\n",
    "\n",
    "Both images are in jpeg firmat, with 40x40 pixels."
   ]
  },
  {
   "cell_type": "code",
   "execution_count": 15,
   "id": "7261b5bd-77ca-447d-ba8b-451581609b2d",
   "metadata": {
    "tags": []
   },
   "outputs": [
    {
     "name": "stdout",
     "output_type": "stream",
     "text": [
      "images/icon_0.jpg: JPEG image data, JFIF standard 1.01, resolution (DPI), density 1x1, segment length 16, baseline, precision 8, 40x40, components 1\n",
      "images/icon_1.jpg: JPEG image data, JFIF standard 1.01, resolution (DPI), density 1x1, segment length 16, baseline, precision 8, 40x40, components 1\n"
     ]
    }
   ],
   "source": [
    "!file images/icon_?.jpg"
   ]
  },
  {
   "cell_type": "markdown",
   "id": "2dfe56c4-5b7d-4a3e-a81c-d5fb46a1822d",
   "metadata": {},
   "source": [
    "We can show these two images by reading them with `imread` from `matplotlib`, then \n",
    "plot the matrox read in with `imshow`."
   ]
  },
  {
   "cell_type": "code",
   "execution_count": 11,
   "id": "44259a3a-4e28-4070-9fc3-ee2f424c6984",
   "metadata": {
    "tags": []
   },
   "outputs": [
    {
     "data": {
      "text/plain": [
       "<matplotlib.image.AxesImage at 0x1269dc3d0>"
      ]
     },
     "execution_count": 11,
     "metadata": {},
     "output_type": "execute_result"
    },
    {
     "data": {
      "image/png": "[encoded data removed]",
      "text/plain": [
       "<Figure size 640x480 with 2 Axes>"
      ]
     },
     "metadata": {},
     "output_type": "display_data"
    }
   ],
   "source": [
    "file0 = './images/icon_0.jpg'\n",
    "file1 = './images/icon_1.jpg'\n",
    "\n",
    "fig,axs = plt.subplots(1,2)\n",
    "axs[0].imshow(mpimg.imread(file0))\n",
    "axs[1].imshow(mpimg.imread(file1))"
   ]
  },
  {
   "cell_type": "markdown",
   "id": "303931ad-c710-4106-8aaf-1f36ce938aa7",
   "metadata": {},
   "source": [
    "We read the content of the files into two variables, `data0` and `data1`(note they are re-used), \n",
    "then create the `sha256` hash value for each file and store them in a list called `digests`.\n",
    "\n",
    "We then print the list and compare the elements."
   ]
  },
  {
   "cell_type": "code",
   "execution_count": 14,
   "id": "51067263-604c-42c9-99dd-a9807bf8a391",
   "metadata": {
    "tags": []
   },
   "outputs": [
    {
     "name": "stdout",
     "output_type": "stream",
     "text": [
      "digests:  ['6c3ae4e88ac36daa35732120e594f8a918e147426a1f13e33b6ddd1e0c98de20', 'cc156d75ced4ee9b0d4d0df9f1c24fc2d13c23ebf78638bce0f460b323f12da6']\n",
      "Equal:    False\n"
     ]
    }
   ],
   "source": [
    "data0 = open(file0,'rb').read()\n",
    "data1 = open(file1,'rb').read()\n",
    "\n",
    "digests = list()\n",
    "\n",
    "digest = hashlib.sha256(data0).hexdigest()\n",
    "digests.append(digest)\n",
    "digest = hashlib.sha256(data1).hexdigest()\n",
    "digests.append(digest)\n",
    "\n",
    "print('digests: ',digests)\n",
    "print('Equal:   ',digests[0] == digests[1])"
   ]
  },
  {
   "cell_type": "markdown",
   "id": "57b9d605-085e-4d17-b9a2-53e88a831a88",
   "metadata": {},
   "source": [
    "----"
   ]
  }
 ],
 "metadata": {
  "kernelspec": {
   "display_name": "Python 3 (ipykernel)",
   "language": "python",
   "name": "python3"
  },
  "language_info": {
   "codemirror_mode": {
    "name": "ipython",
    "version": 3
   },
   "file_extension": ".py",
   "mimetype": "text/x-python",
   "name": "python",
   "nbconvert_exporter": "python",
   "pygments_lexer": "ipython3",
   "version": "3.11.3"
  }
 },
 "nbformat": 4,
 "nbformat_minor": 5
}
