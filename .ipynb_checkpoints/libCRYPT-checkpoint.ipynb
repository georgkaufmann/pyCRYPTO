{
 "cells": [
  {
   "cell_type": "markdown",
   "id": "14c483dd-80a9-4c3a-b2a0-8d2a39d39417",
   "metadata": {},
   "source": [
    "<table>\n",
    "<tr><td><img style=\"height: 150px;\" src=\"images/geo_hydro1.jpg\"></td>\n",
    "<td bgcolor=\"#FFFFFF\">\n",
    "    <p style=\"font-size: xx-large; font-weight: 900; line-height: 100%\">pyCRYPTO</p>\n",
    "    <p style=\"font-size: large; color: rgba(0,0,0,0.5);\"><b style=color:red;>Crypto</b>graphy</p>\n",
    "    <p style=\"font-size: large; color: rgba(0,0,0,0.5);\">Georg Kaufmann</p>\n",
    "    </td>\n",
    "<td><img style=\"height: 150px;\" src=\"images/pyCRYPTO.png\"></td>\n",
    "</tr>\n",
    "</table>\n",
    "\n",
    "----\n",
    "# `pyCRYPTO`\n",
    "\n",
    "pyCRYPTO, a program package for cryptography tools and blockchains."
   ]
  },
  {
   "cell_type": "code",
   "execution_count": 1,
   "id": "9fd7ac7e-9c2b-40dc-bc90-f11043498e03",
   "metadata": {
    "tags": []
   },
   "outputs": [],
   "source": [
    "import libCrypt"
   ]
  },
  {
   "cell_type": "code",
   "execution_count": 2,
   "id": "493b63fb-095c-497c-a00e-9fdae9d44b75",
   "metadata": {
    "tags": []
   },
   "outputs": [
    {
     "name": "stdout",
     "output_type": "stream",
     "text": [
      "Help on module libCrypt:\n",
      "\n",
      "NAME\n",
      "    libCrypt - functions for prime number generation, coprime testing, ...\n",
      "\n",
      "FUNCTIONS\n",
      "    RSAcreateKeys(keySize=1024)\n",
      "        pyCRYPTO\n",
      "        create public-private key sequence for RSA crypting\n",
      "        input:\n",
      "          keySize - key size \n",
      "        output:\n",
      "          publicKey  - public key tuple\n",
      "          privateKey - private key tuple\n",
      "    \n",
      "    RSAdecrypt(encrypted_message, privateKey, debug=False)\n",
      "        pyCRYPTO\n",
      "        RSA encryption of a string, using the locale\n",
      "        input:\n",
      "          encrypted_message - encrypted message text\n",
      "          privateKey - private key tuple (keylength,N,E)\n",
      "        output:\n",
      "          decrypted_message - decrypted message\n",
      "    \n",
      "    RSAencrypt(message, publicKey, debug=False)\n",
      "        pyCRYPTO\n",
      "        RSA encryption of a string, using the locale\n",
      "        input:\n",
      "          message - message text\n",
      "          publicKey - public key tuple (keylength,N,E)\n",
      "        output:\n",
      "          encrypt - encrypted message\n",
      "    \n",
      "    findPrimesSimple(upper=100)\n",
      "        pyCRYPTO\n",
      "        create list of prime numbers explicitely\n",
      "        using the modulo operator\n",
      "    \n",
      "    generateLargePrime(keysize=1024)\n",
      "        pyCRYPTO\n",
      "        Return a random prime number of keysize bits in size\n",
      "    \n",
      "    greatestCommonDivisor(a, b)\n",
      "        pyCRYPTO\n",
      "        Determine greatest common divisor for two numbers a,b\n",
      "        input:\n",
      "          a,b - integer numbers\n",
      "        output:\n",
      "          GCA - greatest common divisor\n",
      "    \n",
      "    isPrimeFromList(n)\n",
      "        pyCRYPTO\n",
      "        check if number is prime number \n",
      "        by comparing to a list\n",
      "    \n",
      "    isPrimeRabinMiller(n)\n",
      "        pyCRYPTO\n",
      "        uses Rabin-Miller algorithm to estimate if n is a prime\n",
      "    \n",
      "    primeFactors(n)\n",
      "        pyCRYPTO\n",
      "        Determine all prime factors of a composite number\n",
      "        input:\n",
      "          n - integer number\n",
      "        output:\n",
      "          factors - list of prime factors\n",
      "\n",
      "FILE\n",
      "    /Users/kaufmann/Documents/UNI/RESEARCH/PROGRAMS/py/pyCRYPTO/libCrypt.py\n",
      "\n",
      "\n"
     ]
    }
   ],
   "source": [
    "help(libCrypt)"
   ]
  },
  {
   "cell_type": "markdown",
   "id": "de9a76c6-435f-4936-89d7-47d0750ea84d",
   "metadata": {},
   "source": [
    "----"
   ]
  }
 ],
 "metadata": {
  "kernelspec": {
   "display_name": "Python 3 (ipykernel)",
   "language": "python",
   "name": "python3"
  },
  "language_info": {
   "codemirror_mode": {
    "name": "ipython",
    "version": 3
   },
   "file_extension": ".py",
   "mimetype": "text/x-python",
   "name": "python",
   "nbconvert_exporter": "python",
   "pygments_lexer": "ipython3",
   "version": "3.11.3"
  }
 },
 "nbformat": 4,
 "nbformat_minor": 5
}
