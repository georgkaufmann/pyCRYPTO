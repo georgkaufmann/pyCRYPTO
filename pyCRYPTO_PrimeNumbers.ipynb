{
 "cells": [
  {
   "cell_type": "markdown",
   "id": "f4b3ae77",
   "metadata": {},
   "source": [
    "<table>\n",
    "<tr><td><img style=\"height: 150px;\" src=\"images/geo_hydro1.jpg\"></td>\n",
    "<td bgcolor=\"#FFFFFF\">\n",
    "    <p style=\"font-size: xx-large; font-weight: 900; line-height: 100%\">pyCRYPTO</p>\n",
    "    <p style=\"font-size: large; color: rgba(0,0,0,0.5);\"><b style=color:red;>Crypto</b>graphy</p>\n",
    "    <p style=\"font-size: large; color: rgba(0,0,0,0.5);\">Georg Kaufmann</p>\n",
    "    </td>\n",
    "<td><img style=\"height: 150px;\" src=\"images/pyCRYPTO.png\"></td>\n",
    "</tr>\n",
    "</table>\n",
    "\n",
    "----\n",
    "# `pyCRYPTO`\n",
    "\n",
    "pyCRYPTO, a program package for cryptography tools and blockchains."
   ]
  },
  {
   "cell_type": "markdown",
   "id": "8f659d91",
   "metadata": {},
   "source": [
    "# Create prime numbers \n",
    "----\n",
    "\n",
    "In this notebook, we introduce and create **prime numbers**. "
   ]
  },
  {
   "cell_type": "markdown",
   "id": "37276b5a",
   "metadata": {},
   "source": [
    "----\n",
    "## Prime numbers\n",
    "\n",
    "[See also wikipedia...](https://en.wikipedia.org/wiki/Prime_number)\n",
    "\n",
    "A **prime number** (or a prime) is a natural number greater than 1 that is **not** a product of two smaller natural numbers, e.g. <b style=color:red;>2,3,5,7,11</b>.\n",
    "\n",
    "The only **even** prime number is 2.\n",
    "\n",
    "The opposite of a prime number is called a **composite number**, e.g. \n",
    "<b style=color:green;>4,6,8,9,10,12</b>. "
   ]
  },
  {
   "cell_type": "code",
   "execution_count": 1,
   "id": "e21c3d1a",
   "metadata": {
    "tags": []
   },
   "outputs": [],
   "source": [
    "import numpy as np\n",
    "import random\n",
    "import sys"
   ]
  },
  {
   "cell_type": "markdown",
   "id": "78a6f747",
   "metadata": {},
   "source": [
    "----\n",
    "## Simple prime number generator\n",
    "\n",
    "For a first **simple** prime-number generator, we loop over integer numbers from\n",
    "[2,upper], with `upper` a maximum search number.\n",
    "\n",
    "We then test for each number $n$, if the division through all smaller numbers results in a rest.\n",
    "\n",
    "We use the **modulo operator** `%` for this task. If only one modulo operator results in\n",
    "`0`, the number $n$ is not a prime number."
   ]
  },
  {
   "cell_type": "code",
   "execution_count": 2,
   "id": "e2f7099d",
   "metadata": {
    "tags": []
   },
   "outputs": [],
   "source": [
    "def findPrimesSimple(upper=100):\n",
    "    \"\"\"\n",
    "    pyCRYPTO\n",
    "    create list of prime numbers explicitely\n",
    "    using the modulo operator\n",
    "    \"\"\"\n",
    "    # set array of prime numbers to empty array\n",
    "    primes=[]\n",
    "    # loop over potential prime numbers\n",
    "    for n in range(2,upper):\n",
    "        # inner loop to check division\n",
    "        isprime=True\n",
    "        for i in range(2,n):\n",
    "            if ((n % i) == 0):\n",
    "                isprime=False\n",
    "               #break\n",
    "        if (isprime): primes.append(n)\n",
    "    return primes"
   ]
  },
  {
   "cell_type": "code",
   "execution_count": 3,
   "id": "18443df3",
   "metadata": {
    "tags": []
   },
   "outputs": [
    {
     "name": "stdout",
     "output_type": "stream",
     "text": [
      "prime numbers:  [2, 3, 5, 7, 11, 13, 17, 19, 23, 29, 31, 37, 41, 43, 47, 53, 59, 61, 67, 71, 73, 79, 83, 89, 97]\n"
     ]
    }
   ],
   "source": [
    "primes = findPrimesSimple()\n",
    "print('prime numbers: ',primes)"
   ]
  },
  {
   "cell_type": "markdown",
   "id": "248be8f5",
   "metadata": {},
   "source": [
    "----\n",
    "## Check if number is prime\n",
    "\n",
    "Next, we discuss algorithms, which check, if a number is **prime**.\n",
    "\n",
    "### From tabulated numbers\n",
    "For a first approach, we can use the explicitely generated prime numbers above, and\n",
    "save them in a table."
   ]
  },
  {
   "cell_type": "code",
   "execution_count": 6,
   "id": "8ba38c43",
   "metadata": {
    "tags": []
   },
   "outputs": [],
   "source": [
    "def isPrimeFromList(n):\n",
    "    \"\"\"\n",
    "    pyCRYPTO\n",
    "    check if number is prime number \n",
    "    by comparing to a list\n",
    "    \"\"\"\n",
    "    # create list of prime numbers\n",
    "    primeList = findPrimesSimple(1000)\n",
    "    # check is number is larger than larest element in list\n",
    "    if (n > primeList[-1]):\n",
    "        sys.exit('Error: number larger than maximum in tabulated primes')\n",
    "    # check if number is in list\n",
    "    if n in primeList:\n",
    "        return True\n",
    "    return False"
   ]
  },
  {
   "cell_type": "code",
   "execution_count": 7,
   "id": "4546071c",
   "metadata": {
    "tags": []
   },
   "outputs": [
    {
     "name": "stdout",
     "output_type": "stream",
     "text": [
      "False\n",
      "True\n"
     ]
    },
    {
     "ename": "SystemExit",
     "evalue": "Error: number larger than maximum in tabulated primes",
     "output_type": "error",
     "traceback": [
      "An exception has occurred, use %tb to see the full traceback.\n",
      "\u001b[0;31mSystemExit\u001b[0m\u001b[0;31m:\u001b[0m Error: number larger than maximum in tabulated primes\n"
     ]
    },
    {
     "name": "stderr",
     "output_type": "stream",
     "text": [
      "/opt/miniconda3/envs/python_pygimli/lib/python3.11/site-packages/IPython/core/interactiveshell.py:3516: UserWarning: To exit: use 'exit', 'quit', or Ctrl-D.\n",
      "  warn(\"To exit: use 'exit', 'quit', or Ctrl-D.\", stacklevel=1)\n"
     ]
    }
   ],
   "source": [
    "print(isPrimeFromList(996))\n",
    "print(isPrimeFromList(997))\n",
    "print(isPrimeFromList(1000))"
   ]
  },
  {
   "cell_type": "markdown",
   "id": "56b20a8c",
   "metadata": {},
   "source": [
    "### Rabin-Miller method\n",
    "For testing if larger integer numbers are prime, an often used method is the \n",
    "**Rabin-Miller algorithm** [see wikipedia](https://de.wikipedia.org/wiki/Miller-Rabin-Test)."
   ]
  },
  {
   "cell_type": "code",
   "execution_count": 8,
   "id": "f95d6989",
   "metadata": {
    "tags": []
   },
   "outputs": [],
   "source": [
    "def isPrimeRabinMiller(n):\n",
    "    \"\"\"\n",
    "    pyCRYPTO\n",
    "    uses Rabin-Miller algorithm to estimate if n is a prime\n",
    "    \"\"\"\n",
    "    # check if number is even, then break\n",
    "    if n % 2 == 0: return False\n",
    "    \n",
    "    s = n - 1\n",
    "    t = 0\n",
    "    while s % 2 == 0:\n",
    "        # keep halving s while it is even (and use t\n",
    "        # to count how many times we halve s)\n",
    "        s = s // 2\n",
    "        t += 1\n",
    "    for trials in range(5): # try to falsify num's primality 5 times\n",
    "        a = random.randrange(2,n-1)\n",
    "        v = pow(a, s, n)\n",
    "        if v != 1: # this test does not apply if v is 1.\n",
    "            i = 0\n",
    "            while v != (n-1):\n",
    "                if i == t-1:\n",
    "                    return False\n",
    "                else:\n",
    "                    i += 1\n",
    "                    v = (v**2) % n\n",
    "    return True"
   ]
  },
  {
   "cell_type": "code",
   "execution_count": 9,
   "id": "760fb6b7",
   "metadata": {
    "tags": []
   },
   "outputs": [
    {
     "name": "stdout",
     "output_type": "stream",
     "text": [
      "False\n",
      "True\n",
      "False\n",
      "False\n"
     ]
    }
   ],
   "source": [
    "print(isPrimeRabinMiller(996))\n",
    "print(isPrimeRabinMiller(997))\n",
    "print(isPrimeRabinMiller(1000))\n",
    "print(isPrimeRabinMiller(123456123456))"
   ]
  },
  {
   "cell_type": "markdown",
   "id": "709b3ca5-706d-4c97-9d8b-aee23623bac6",
   "metadata": {},
   "source": [
    "----\n",
    "## Large (pseudo-)prime numbers\n",
    "We use the Rabin-Miller algorithm to create large pseudo-prime numbers,\n",
    "which we later need for encryption."
   ]
  },
  {
   "cell_type": "code",
   "execution_count": 10,
   "id": "e247b24d",
   "metadata": {
    "tags": []
   },
   "outputs": [],
   "source": [
    "def generateLargePrime(keysize=1024):\n",
    "    \"\"\"\n",
    "    pyCRYPTO\n",
    "    Return a random prime number of keysize bits in size\n",
    "    \"\"\"\n",
    "    while True:\n",
    "        number = random.randrange(2**(keysize-1), 2**(keysize))\n",
    "        if isPrimeRabinMiller(number):\n",
    "            return number"
   ]
  },
  {
   "cell_type": "code",
   "execution_count": 11,
   "id": "6ba77f6b",
   "metadata": {
    "tags": []
   },
   "outputs": [
    {
     "name": "stdout",
     "output_type": "stream",
     "text": [
      "keysize:  4  prime:  13\n",
      "keysize:  8  prime:  191\n",
      "keysize:  16  prime:  63667\n",
      "keysize:  32  prime:  3360571153\n",
      "keysize:  64  prime:  16297835754779474983\n",
      "keysize:  128  prime:  189805382139330633874356165679958262881\n",
      "keysize:  1024  prime:  165000488420641388261566572480324649626632395732020995350404144989880955928807950006166411077928221651369492025805290419070937291592966623166575372419776846512443874708627335822411707019555778958028348560915685051466586563496368412048050763085061148538829183964974233316539413654711865049436682563238071352269\n"
     ]
    }
   ],
   "source": [
    "keysize_list=[4,8,16,32,64,128,1024]\n",
    "for keysize in keysize_list:\n",
    "    prime = generateLargePrime(keysize)\n",
    "    print('keysize: ',keysize,' prime: ',prime)"
   ]
  },
  {
   "cell_type": "markdown",
   "id": "63e1816f",
   "metadata": {},
   "source": [
    "----"
   ]
  }
 ],
 "metadata": {
  "kernelspec": {
   "display_name": "Python 3 (ipykernel)",
   "language": "python",
   "name": "python3"
  },
  "language_info": {
   "codemirror_mode": {
    "name": "ipython",
    "version": 3
   },
   "file_extension": ".py",
   "mimetype": "text/x-python",
   "name": "python",
   "nbconvert_exporter": "python",
   "pygments_lexer": "ipython3",
   "version": "3.11.3"
  }
 },
 "nbformat": 4,
 "nbformat_minor": 5
}
