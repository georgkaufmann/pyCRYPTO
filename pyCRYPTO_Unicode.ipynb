{
 "cells": [
  {
   "cell_type": "markdown",
   "id": "f4b3ae77",
   "metadata": {},
   "source": [
    "<table>\n",
    "<tr><td><img style=\"height: 150px;\" src=\"images/geo_hydro1.jpg\"></td>\n",
    "<td bgcolor=\"#FFFFFF\">\n",
    "    <p style=\"font-size: xx-large; font-weight: 900; line-height: 100%\">pyCRYPTO</p>\n",
    "    <p style=\"font-size: large; color: rgba(0,0,0,0.5);\"><b style=color:red;>Crypto</b>graphy</p>\n",
    "    <p style=\"font-size: large; color: rgba(0,0,0,0.5);\">Georg Kaufmann</p>\n",
    "    </td>\n",
    "<td><img style=\"height: 150px;\" src=\"images/pyCRYPTO.png\"></td>\n",
    "</tr>\n",
    "</table>\n",
    "\n",
    "----\n",
    "# `pyCRYPTO`\n",
    "\n",
    "pyCRYPTO, a program package for cryptography tools and blockchains."
   ]
  },
  {
   "cell_type": "markdown",
   "id": "8f659d91",
   "metadata": {},
   "source": [
    "# Unicode \n",
    "----\n",
    "\n",
    "In this notebook, we discuss different character encodings, used to store letters and numbers, or other symbols.\n",
    "\n",
    "[See also this explanation on towardsdatascience ...](https://towardsdatascience.com/a-guide-to-unicode-utf-8-and-strings-in-python-757a232db95c)"
   ]
  },
  {
   "cell_type": "markdown",
   "id": "b57f8ca7-8f7c-4518-8a9b-30751e249f64",
   "metadata": {},
   "source": [
    "----\n",
    "## Checking character positions\n",
    "Each letter, each integer, and each punctuation sign are stored in **encoding tables**. \n",
    "\n",
    "We can test a character with the `ord()` function, which gives us the position in the encoding table:"
   ]
  },
  {
   "cell_type": "code",
   "execution_count": 1,
   "id": "6d5a2de9-5108-4298-8d54-68694923c6a4",
   "metadata": {
    "tags": []
   },
   "outputs": [
    {
     "name": "stdout",
     "output_type": "stream",
     "text": [
      "Help on built-in function ord in module builtins:\n",
      "\n",
      "ord(c, /)\n",
      "    Return the Unicode code point for a one-character string.\n",
      "\n",
      "a : 97\n"
     ]
    }
   ],
   "source": [
    "character = 'a'\n",
    "help(ord)\n",
    "print(character,':',ord(character))"
   ]
  },
  {
   "cell_type": "markdown",
   "id": "498176dc-43b6-483f-8722-0e7896b103e3",
   "metadata": {},
   "source": [
    "A reverse function `char(n)` returns the character belonging to the number $n$ , which refers to the underlying encoding table:"
   ]
  },
  {
   "cell_type": "code",
   "execution_count": 2,
   "id": "2660a635-4057-42e8-aba2-245102417ccd",
   "metadata": {
    "tags": []
   },
   "outputs": [
    {
     "name": "stdout",
     "output_type": "stream",
     "text": [
      "Help on built-in function chr in module builtins:\n",
      "\n",
      "chr(i, /)\n",
      "    Return a Unicode string of one character with ordinal i; 0 <= i <= 0x10ffff.\n",
      "\n",
      "97 : a\n"
     ]
    }
   ],
   "source": [
    "n =ord(character)\n",
    "help(chr)\n",
    "print(n,':',chr(n))"
   ]
  },
  {
   "cell_type": "markdown",
   "id": "6686ced6-8dea-4aac-a813-343227eb24e2",
   "metadata": {},
   "source": [
    "With the `bin()` function, we can figure out the position number in the encoding table as a **binary number**:"
   ]
  },
  {
   "cell_type": "code",
   "execution_count": 27,
   "id": "d24b9472",
   "metadata": {},
   "outputs": [
    {
     "name": "stdout",
     "output_type": "stream",
     "text": [
      "Help on built-in function bin in module builtins:\n",
      "\n",
      "bin(number, /)\n",
      "    Return the binary representation of an integer.\n",
      "    \n",
      "    >>> bin(2796202)\n",
      "    '0b1010101010101010101010'\n",
      "\n",
      "97 : 0b1100001\n"
     ]
    }
   ],
   "source": [
    "help(bin)\n",
    "print(n,':',bin(n))"
   ]
  },
  {
   "cell_type": "markdown",
   "id": "13c0bf76-8dc4-467a-b126-dcadb572789a",
   "metadata": {
    "tags": []
   },
   "source": [
    "The binary number represents:\n",
    "$$\n",
    "1100001\n",
    "=\n",
    "1 \\times 2^6 +\n",
    "1 \\times 2^5 +\n",
    "0 \\times 2^4 +\n",
    "0 \\times 2^3 +\n",
    "0 \\times 2^2 +\n",
    "0 \\times 2^1 +\n",
    "1 \\times 2^0\n",
    "=97\n",
    "$$\n",
    "Test ..."
   ]
  },
  {
   "cell_type": "code",
   "execution_count": 25,
   "id": "73464460-2160-4828-8329-e18e040cf215",
   "metadata": {
    "tags": []
   },
   "outputs": [
    {
     "data": {
      "text/plain": [
       "97"
      ]
     },
     "execution_count": 25,
     "metadata": {},
     "output_type": "execute_result"
    }
   ],
   "source": [
    "2**6 + 2**5 + 2**0"
   ]
  },
  {
   "cell_type": "markdown",
   "id": "84818cc6",
   "metadata": {},
   "source": [
    "----\n",
    "## ASCII\n",
    "\n",
    "One of the early **character encodings** is the **ASCII** code \n",
    "(American Standard Code for Information Interchange). \n",
    "\n",
    "The ASCII code uses 7 bits of a byte (which consists of eight bits) to map a character to a binary list used by the computer\n",
    "to store symbols (such as letters, punctuation signs, ...). The eight bit is not used in the original ASCII table (is was\n",
    "used a parity bit for testing integrity).\n",
    "\n",
    "Therefore, the ASCII encoding has space for of $2^7=128$ characters:\n",
    "- [0,31] - non-printable characters\n",
    "- [32,127] - printable characters\n",
    "\n",
    "We print the positions 32 to 127 from the ASCII table:"
   ]
  },
  {
   "cell_type": "code",
   "execution_count": 28,
   "id": "93ff3f9c-7179-44e9-9a67-245145675409",
   "metadata": {
    "tags": []
   },
   "outputs": [
    {
     "name": "stdout",
     "output_type": "stream",
     "text": [
      "32 :  \n",
      "33 : !\n",
      "34 : \"\n",
      "35 : #\n",
      "36 : $\n",
      "37 : %\n",
      "38 : &\n",
      "39 : '\n",
      "40 : (\n",
      "41 : )\n",
      "42 : *\n",
      "43 : +\n",
      "44 : ,\n",
      "45 : -\n",
      "46 : .\n",
      "47 : /\n",
      "48 : 0\n",
      "49 : 1\n",
      "50 : 2\n",
      "51 : 3\n",
      "52 : 4\n",
      "53 : 5\n",
      "54 : 6\n",
      "55 : 7\n",
      "56 : 8\n",
      "57 : 9\n",
      "58 : :\n",
      "59 : ;\n",
      "60 : <\n",
      "61 : =\n",
      "62 : >\n",
      "63 : ?\n",
      "64 : @\n",
      "65 : A\n",
      "66 : B\n",
      "67 : C\n",
      "68 : D\n",
      "69 : E\n",
      "70 : F\n",
      "71 : G\n",
      "72 : H\n",
      "73 : I\n",
      "74 : J\n",
      "75 : K\n",
      "76 : L\n",
      "77 : M\n",
      "78 : N\n",
      "79 : O\n",
      "80 : P\n",
      "81 : Q\n",
      "82 : R\n",
      "83 : S\n",
      "84 : T\n",
      "85 : U\n",
      "86 : V\n",
      "87 : W\n",
      "88 : X\n",
      "89 : Y\n",
      "90 : Z\n",
      "91 : [\n",
      "92 : \\\n",
      "93 : ]\n",
      "94 : ^\n",
      "95 : _\n",
      "96 : `\n",
      "97 : a\n",
      "98 : b\n",
      "99 : c\n",
      "100 : d\n",
      "101 : e\n",
      "102 : f\n",
      "103 : g\n",
      "104 : h\n",
      "105 : i\n",
      "106 : j\n",
      "107 : k\n",
      "108 : l\n",
      "109 : m\n",
      "110 : n\n",
      "111 : o\n",
      "112 : p\n",
      "113 : q\n",
      "114 : r\n",
      "115 : s\n",
      "116 : t\n",
      "117 : u\n",
      "118 : v\n",
      "119 : w\n",
      "120 : x\n",
      "121 : y\n",
      "122 : z\n",
      "123 : {\n",
      "124 : |\n",
      "125 : }\n",
      "126 : ~\n",
      "127 : \n"
     ]
    }
   ],
   "source": [
    "for i in range(2**5,2**7):\n",
    "    print(i,':',chr(i))"
   ]
  },
  {
   "cell_type": "markdown",
   "id": "7b7d2a09-2e91-42d4-b257-8ee8256413d9",
   "metadata": {},
   "source": [
    "----\n",
    "## Extended ASCII\n",
    "There is not enough space in the 128 positions in the ASCII table to cope with special characters. Therefore, the **eight bit** was added\n",
    "as storage for characters, extending the range of storage places to $2^8=256$  characters, the **extended ASCII table**.\n",
    "\n",
    "We check the range from [128,256]:"
   ]
  },
  {
   "cell_type": "code",
   "execution_count": 29,
   "id": "f4410560",
   "metadata": {},
   "outputs": [
    {
     "name": "stdout",
     "output_type": "stream",
     "text": [
      "128 : \n",
      "129 : \n",
      "130 : \n",
      "131 : \n",
      "132 : \n",
      "133 : ",
      "\n",
      "134 : \n",
      "135 : \n",
      "136 : \n",
      "137 : \n",
      "138 : \n",
      "139 : \n",
      "140 : \n",
      "141 : \n",
      "142 : \n",
      "143 : \n",
      "144 : \n",
      "145 : \n",
      "146 : \n",
      "147 : \n",
      "148 : \n",
      "149 : \n",
      "150 : \n",
      "151 : \n",
      "152 : \n",
      "153 : \n",
      "154 : \n",
      "155 : \n",
      "156 : \n",
      "157 : \n",
      "158 : \n",
      "159 : \n",
      "160 :  \n",
      "161 : ¡\n",
      "162 : ¢\n",
      "163 : £\n",
      "164 : ¤\n",
      "165 : ¥\n",
      "166 : ¦\n",
      "167 : §\n",
      "168 : ¨\n",
      "169 : ©\n",
      "170 : ª\n",
      "171 : «\n",
      "172 : ¬\n",
      "173 : ­\n",
      "174 : ®\n",
      "175 : ¯\n",
      "176 : °\n",
      "177 : ±\n",
      "178 : ²\n",
      "179 : ³\n",
      "180 : ´\n",
      "181 : µ\n",
      "182 : ¶\n",
      "183 : ·\n",
      "184 : ¸\n",
      "185 : ¹\n",
      "186 : º\n",
      "187 : »\n",
      "188 : ¼\n",
      "189 : ½\n",
      "190 : ¾\n",
      "191 : ¿\n",
      "192 : À\n",
      "193 : Á\n",
      "194 : Â\n",
      "195 : Ã\n",
      "196 : Ä\n",
      "197 : Å\n",
      "198 : Æ\n",
      "199 : Ç\n",
      "200 : È\n",
      "201 : É\n",
      "202 : Ê\n",
      "203 : Ë\n",
      "204 : Ì\n",
      "205 : Í\n",
      "206 : Î\n",
      "207 : Ï\n",
      "208 : Ð\n",
      "209 : Ñ\n",
      "210 : Ò\n",
      "211 : Ó\n",
      "212 : Ô\n",
      "213 : Õ\n",
      "214 : Ö\n",
      "215 : ×\n",
      "216 : Ø\n",
      "217 : Ù\n",
      "218 : Ú\n",
      "219 : Û\n",
      "220 : Ü\n",
      "221 : Ý\n",
      "222 : Þ\n",
      "223 : ß\n",
      "224 : à\n",
      "225 : á\n",
      "226 : â\n",
      "227 : ã\n",
      "228 : ä\n",
      "229 : å\n",
      "230 : æ\n",
      "231 : ç\n",
      "232 : è\n",
      "233 : é\n",
      "234 : ê\n",
      "235 : ë\n",
      "236 : ì\n",
      "237 : í\n",
      "238 : î\n",
      "239 : ï\n",
      "240 : ð\n",
      "241 : ñ\n",
      "242 : ò\n",
      "243 : ó\n",
      "244 : ô\n",
      "245 : õ\n",
      "246 : ö\n",
      "247 : ÷\n",
      "248 : ø\n",
      "249 : ù\n",
      "250 : ú\n",
      "251 : û\n",
      "252 : ü\n",
      "253 : ý\n",
      "254 : þ\n",
      "255 : ÿ\n"
     ]
    }
   ],
   "source": [
    "for i in range(2**7,2**8):\n",
    "    #print(chr(i),' ',end='')\n",
    "    print(i,':',chr(i))"
   ]
  },
  {
   "cell_type": "markdown",
   "id": "75ccb77a",
   "metadata": {},
   "source": [
    "There are more characters in!\n",
    "\n",
    "Let's create a **dictionary** of the characters ..."
   ]
  },
  {
   "cell_type": "code",
   "execution_count": 30,
   "id": "e702d891",
   "metadata": {},
   "outputs": [
    {
     "name": "stdout",
     "output_type": "stream",
     "text": [
      "a\n"
     ]
    }
   ],
   "source": [
    "dict = {}\n",
    "for i in range(32,2**7):\n",
    "    dict[i]=chr(i)\n",
    "print(dict[97])"
   ]
  },
  {
   "cell_type": "code",
   "execution_count": 6,
   "id": "67d78365",
   "metadata": {},
   "outputs": [
    {
     "name": "stdout",
     "output_type": "stream",
     "text": [
      "32 ->  \n",
      "33 -> !\n",
      "34 -> \"\n",
      "35 -> #\n",
      "36 -> $\n",
      "37 -> %\n",
      "38 -> &\n",
      "39 -> '\n",
      "40 -> (\n",
      "41 -> )\n",
      "42 -> *\n",
      "43 -> +\n",
      "44 -> ,\n",
      "45 -> -\n",
      "46 -> .\n",
      "47 -> /\n",
      "48 -> 0\n",
      "49 -> 1\n",
      "50 -> 2\n",
      "51 -> 3\n",
      "52 -> 4\n",
      "53 -> 5\n",
      "54 -> 6\n",
      "55 -> 7\n",
      "56 -> 8\n",
      "57 -> 9\n",
      "58 -> :\n",
      "59 -> ;\n",
      "60 -> <\n",
      "61 -> =\n",
      "62 -> >\n",
      "63 -> ?\n",
      "64 -> @\n",
      "65 -> A\n",
      "66 -> B\n",
      "67 -> C\n",
      "68 -> D\n",
      "69 -> E\n",
      "70 -> F\n",
      "71 -> G\n",
      "72 -> H\n",
      "73 -> I\n",
      "74 -> J\n",
      "75 -> K\n",
      "76 -> L\n",
      "77 -> M\n",
      "78 -> N\n",
      "79 -> O\n",
      "80 -> P\n",
      "81 -> Q\n",
      "82 -> R\n",
      "83 -> S\n",
      "84 -> T\n",
      "85 -> U\n",
      "86 -> V\n",
      "87 -> W\n",
      "88 -> X\n",
      "89 -> Y\n",
      "90 -> Z\n",
      "91 -> [\n",
      "92 -> \\\n",
      "93 -> ]\n",
      "94 -> ^\n",
      "95 -> _\n",
      "96 -> `\n",
      "97 -> a\n",
      "98 -> b\n",
      "99 -> c\n",
      "100 -> d\n",
      "101 -> e\n",
      "102 -> f\n",
      "103 -> g\n",
      "104 -> h\n",
      "105 -> i\n",
      "106 -> j\n",
      "107 -> k\n",
      "108 -> l\n",
      "109 -> m\n",
      "110 -> n\n",
      "111 -> o\n",
      "112 -> p\n",
      "113 -> q\n",
      "114 -> r\n",
      "115 -> s\n",
      "116 -> t\n",
      "117 -> u\n",
      "118 -> v\n",
      "119 -> w\n",
      "120 -> x\n",
      "121 -> y\n",
      "122 -> z\n",
      "123 -> {\n",
      "124 -> |\n",
      "125 -> }\n",
      "126 -> ~\n",
      "127 -> \n"
     ]
    }
   ],
   "source": [
    "for key, value in dict.items():\n",
    "    print(key, '->', value)"
   ]
  },
  {
   "cell_type": "markdown",
   "id": "7e44145c-8921-4cec-b655-e55c9baa95a5",
   "metadata": {},
   "source": [
    "----\n",
    "## Unicode\n",
    "Now we have to admit, that we cheated a bit. We talked about ASCII tables, but actually the `ord()` and `chr()` functions\n",
    "use something called unicode code (See e.g. the help on `ord()`).\n",
    "\n",
    "Here is the explanation: \n",
    "\n",
    "The extended ASCII encoding was not sufficient to store symbols from all languages. Here, **Unicode** came into play,\n",
    "as a new encoding class with a very large symbol set. Actually, extended ASCII is contained in the Unicode set.\n",
    "\n",
    "The Unicode set needs to be used with a proper **encoding**, e.g. **UTF-8**. In this encoding, a symbol occupies a **minimum**\n",
    "of 8 bits.\n",
    "\n",
    "In **UTF-16**, a symbol occupies a **minimum** of 16 bits."
   ]
  },
  {
   "cell_type": "code",
   "execution_count": 8,
   "id": "bca51bdf",
   "metadata": {},
   "outputs": [
    {
     "name": "stdout",
     "output_type": "stream",
     "text": [
      "0061 61 97\n",
      "U+0061 : a\n",
      "U+1F590 : 🖐\n",
      "U+03A9 : Ω\n"
     ]
    }
   ],
   "source": [
    "a     = 'U+0061'\n",
    "emoij = 'U+1F590'\n",
    "omega = 'U+03A9'\n",
    "\n",
    "print(a[2:],int(a[2:]),int(a[2:],16))\n",
    "# 0041\n",
    "\n",
    "print(a,':',chr(int(a[2:],16)))\n",
    "print(emoij,':',chr(int(emoij[2:],16)))\n",
    "print(omega,':',chr(int(omega[2:],16)))"
   ]
  },
  {
   "cell_type": "markdown",
   "id": "70e03b61",
   "metadata": {},
   "source": [
    "----"
   ]
  }
 ],
 "metadata": {
  "kernelspec": {
   "display_name": "Python 3 (ipykernel)",
   "language": "python",
   "name": "python3"
  },
  "language_info": {
   "codemirror_mode": {
    "name": "ipython",
    "version": 3
   },
   "file_extension": ".py",
   "mimetype": "text/x-python",
   "name": "python",
   "nbconvert_exporter": "python",
   "pygments_lexer": "ipython3",
   "version": "3.11.3"
  }
 },
 "nbformat": 4,
 "nbformat_minor": 5
}
